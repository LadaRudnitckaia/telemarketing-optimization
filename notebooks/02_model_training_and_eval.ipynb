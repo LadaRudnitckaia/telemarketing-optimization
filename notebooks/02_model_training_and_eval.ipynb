{
 "cells": [
  {
   "cell_type": "markdown",
   "metadata": {},
   "source": [
    "# Model Training and Evaluation"
   ]
  },
  {
   "cell_type": "markdown",
   "metadata": {},
   "source": [
    "In this notebook, we experiment with various machine learning models using autoML tools, select one model, fine tune its parameters, optimize the threshold, evaluate the model using classic performance metrics and using domain metrics, and save the model. Here, we also explore the feature importance."
   ]
  },
  {
   "cell_type": "code",
   "execution_count": 14,
   "metadata": {},
   "outputs": [],
   "source": [
    "import os\n",
    "import sys\n",
    "import json\n",
    "\n",
    "import pandas as pd\n",
    "import numpy as np\n",
    "\n",
    "import matplotlib.pyplot as plt\n",
    "import seaborn as sns\n",
    "\n",
    "from sklearn.preprocessing import OneHotEncoder\n",
    "from sklearn.preprocessing import LabelEncoder\n",
    "from sklearn.model_selection import train_test_split\n",
    "from sklearn.ensemble import RandomForestClassifier\n",
    "from sklearn.model_selection import RandomizedSearchCV, StratifiedKFold\n",
    "from sklearn import metrics\n",
    "from sklearn.metrics import make_scorer, recall_score\n",
    "from sklearn.metrics import confusion_matrix\n",
    "\n",
    "import joblib"
   ]
  },
  {
   "cell_type": "code",
   "execution_count": 15,
   "metadata": {},
   "outputs": [],
   "source": [
    "modules_path = os.path.join(os.getcwd(), \"../modules\")\n",
    "if modules_path not in sys.path:\n",
    "    sys.path.append(modules_path)\n",
    "from data_preprocessing_training import data_preprocessing_training"
   ]
  },
  {
   "cell_type": "markdown",
   "metadata": {},
   "source": [
    "## Import data"
   ]
  },
  {
   "cell_type": "code",
   "execution_count": 16,
   "metadata": {},
   "outputs": [
    {
     "data": {
      "text/html": [
       "<div>\n",
       "<style scoped>\n",
       "    .dataframe tbody tr th:only-of-type {\n",
       "        vertical-align: middle;\n",
       "    }\n",
       "\n",
       "    .dataframe tbody tr th {\n",
       "        vertical-align: top;\n",
       "    }\n",
       "\n",
       "    .dataframe thead th {\n",
       "        text-align: right;\n",
       "    }\n",
       "</style>\n",
       "<table border=\"1\" class=\"dataframe\">\n",
       "  <thead>\n",
       "    <tr style=\"text-align: right;\">\n",
       "      <th></th>\n",
       "      <th>age</th>\n",
       "      <th>job</th>\n",
       "      <th>marital</th>\n",
       "      <th>education</th>\n",
       "      <th>default</th>\n",
       "      <th>housing</th>\n",
       "      <th>loan</th>\n",
       "      <th>contact</th>\n",
       "      <th>month</th>\n",
       "      <th>day_of_week</th>\n",
       "      <th>...</th>\n",
       "      <th>campaign</th>\n",
       "      <th>pdays</th>\n",
       "      <th>previous</th>\n",
       "      <th>poutcome</th>\n",
       "      <th>emp.var.rate</th>\n",
       "      <th>cons.price.idx</th>\n",
       "      <th>cons.conf.idx</th>\n",
       "      <th>euribor3m</th>\n",
       "      <th>nr.employed</th>\n",
       "      <th>y</th>\n",
       "    </tr>\n",
       "  </thead>\n",
       "  <tbody>\n",
       "    <tr>\n",
       "      <th>0</th>\n",
       "      <td>56</td>\n",
       "      <td>housemaid</td>\n",
       "      <td>married</td>\n",
       "      <td>basic.4y</td>\n",
       "      <td>no</td>\n",
       "      <td>no</td>\n",
       "      <td>no</td>\n",
       "      <td>telephone</td>\n",
       "      <td>may</td>\n",
       "      <td>mon</td>\n",
       "      <td>...</td>\n",
       "      <td>1</td>\n",
       "      <td>999</td>\n",
       "      <td>0</td>\n",
       "      <td>nonexistent</td>\n",
       "      <td>1.1</td>\n",
       "      <td>93.994</td>\n",
       "      <td>-36.4</td>\n",
       "      <td>4.857</td>\n",
       "      <td>5191.0</td>\n",
       "      <td>no</td>\n",
       "    </tr>\n",
       "    <tr>\n",
       "      <th>1</th>\n",
       "      <td>57</td>\n",
       "      <td>services</td>\n",
       "      <td>married</td>\n",
       "      <td>high.school</td>\n",
       "      <td>unknown</td>\n",
       "      <td>no</td>\n",
       "      <td>no</td>\n",
       "      <td>telephone</td>\n",
       "      <td>may</td>\n",
       "      <td>mon</td>\n",
       "      <td>...</td>\n",
       "      <td>1</td>\n",
       "      <td>999</td>\n",
       "      <td>0</td>\n",
       "      <td>nonexistent</td>\n",
       "      <td>1.1</td>\n",
       "      <td>93.994</td>\n",
       "      <td>-36.4</td>\n",
       "      <td>4.857</td>\n",
       "      <td>5191.0</td>\n",
       "      <td>no</td>\n",
       "    </tr>\n",
       "    <tr>\n",
       "      <th>2</th>\n",
       "      <td>37</td>\n",
       "      <td>services</td>\n",
       "      <td>married</td>\n",
       "      <td>high.school</td>\n",
       "      <td>no</td>\n",
       "      <td>yes</td>\n",
       "      <td>no</td>\n",
       "      <td>telephone</td>\n",
       "      <td>may</td>\n",
       "      <td>mon</td>\n",
       "      <td>...</td>\n",
       "      <td>1</td>\n",
       "      <td>999</td>\n",
       "      <td>0</td>\n",
       "      <td>nonexistent</td>\n",
       "      <td>1.1</td>\n",
       "      <td>93.994</td>\n",
       "      <td>-36.4</td>\n",
       "      <td>4.857</td>\n",
       "      <td>5191.0</td>\n",
       "      <td>no</td>\n",
       "    </tr>\n",
       "    <tr>\n",
       "      <th>3</th>\n",
       "      <td>40</td>\n",
       "      <td>admin.</td>\n",
       "      <td>married</td>\n",
       "      <td>basic.6y</td>\n",
       "      <td>no</td>\n",
       "      <td>no</td>\n",
       "      <td>no</td>\n",
       "      <td>telephone</td>\n",
       "      <td>may</td>\n",
       "      <td>mon</td>\n",
       "      <td>...</td>\n",
       "      <td>1</td>\n",
       "      <td>999</td>\n",
       "      <td>0</td>\n",
       "      <td>nonexistent</td>\n",
       "      <td>1.1</td>\n",
       "      <td>93.994</td>\n",
       "      <td>-36.4</td>\n",
       "      <td>4.857</td>\n",
       "      <td>5191.0</td>\n",
       "      <td>no</td>\n",
       "    </tr>\n",
       "    <tr>\n",
       "      <th>4</th>\n",
       "      <td>56</td>\n",
       "      <td>services</td>\n",
       "      <td>married</td>\n",
       "      <td>high.school</td>\n",
       "      <td>no</td>\n",
       "      <td>no</td>\n",
       "      <td>yes</td>\n",
       "      <td>telephone</td>\n",
       "      <td>may</td>\n",
       "      <td>mon</td>\n",
       "      <td>...</td>\n",
       "      <td>1</td>\n",
       "      <td>999</td>\n",
       "      <td>0</td>\n",
       "      <td>nonexistent</td>\n",
       "      <td>1.1</td>\n",
       "      <td>93.994</td>\n",
       "      <td>-36.4</td>\n",
       "      <td>4.857</td>\n",
       "      <td>5191.0</td>\n",
       "      <td>no</td>\n",
       "    </tr>\n",
       "  </tbody>\n",
       "</table>\n",
       "<p>5 rows × 21 columns</p>\n",
       "</div>"
      ],
      "text/plain": [
       "   age        job  marital    education  default housing loan    contact  \\\n",
       "0   56  housemaid  married     basic.4y       no      no   no  telephone   \n",
       "1   57   services  married  high.school  unknown      no   no  telephone   \n",
       "2   37   services  married  high.school       no     yes   no  telephone   \n",
       "3   40     admin.  married     basic.6y       no      no   no  telephone   \n",
       "4   56   services  married  high.school       no      no  yes  telephone   \n",
       "\n",
       "  month day_of_week  ...  campaign  pdays  previous     poutcome emp.var.rate  \\\n",
       "0   may         mon  ...         1    999         0  nonexistent          1.1   \n",
       "1   may         mon  ...         1    999         0  nonexistent          1.1   \n",
       "2   may         mon  ...         1    999         0  nonexistent          1.1   \n",
       "3   may         mon  ...         1    999         0  nonexistent          1.1   \n",
       "4   may         mon  ...         1    999         0  nonexistent          1.1   \n",
       "\n",
       "   cons.price.idx  cons.conf.idx  euribor3m  nr.employed   y  \n",
       "0          93.994          -36.4      4.857       5191.0  no  \n",
       "1          93.994          -36.4      4.857       5191.0  no  \n",
       "2          93.994          -36.4      4.857       5191.0  no  \n",
       "3          93.994          -36.4      4.857       5191.0  no  \n",
       "4          93.994          -36.4      4.857       5191.0  no  \n",
       "\n",
       "[5 rows x 21 columns]"
      ]
     },
     "execution_count": 16,
     "metadata": {},
     "output_type": "execute_result"
    }
   ],
   "source": [
    "data_path = os.path.join(os.getcwd(), \"../data\")\n",
    "df = pd.read_csv(\n",
    "    os.path.join(\n",
    "        data_path, \"data_extracted\", \"bank-additional\", \"bank-additional-full.csv\"\n",
    "    ),\n",
    "    delimiter=\";\",\n",
    ")\n",
    "df.head()"
   ]
  },
  {
   "cell_type": "markdown",
   "metadata": {},
   "source": [
    "## Train a Random Forest model"
   ]
  },
  {
   "cell_type": "markdown",
   "metadata": {},
   "source": [
    "Ideally, we would test many different algorithms and select the one that performs the best. This process could be speeded up by tools like AutoML. However, in the scope of this project, we train a model using an Random Forest algorithm. It is known to generalize better than a single decision tree and provides embedded feature importance which can be useful for the stakeholders.\n",
    "\n",
    "We start with preparing the data to train an Random Forest model."
   ]
  },
  {
   "cell_type": "markdown",
   "metadata": {},
   "source": [
    "### Data pre-processing"
   ]
  },
  {
   "cell_type": "code",
   "execution_count": 17,
   "metadata": {},
   "outputs": [
    {
     "name": "stdout",
     "output_type": "stream",
     "text": [
      "Training Features Shape: (33362, 597)\n",
      "Training Labels Shape: (33362,)\n",
      "Testing Features Shape: (4119, 597)\n",
      "Testing Labels Shape: (4119,)\n",
      "Validation Features Shape: (3707, 597)\n",
      "Validation Labels Shape: (3707,)\n"
     ]
    },
    {
     "name": "stderr",
     "output_type": "stream",
     "text": [
      "/Users/ladarudnitckaia/opt/anaconda3/envs/telemarketing-optimization/lib/python3.10/site-packages/sklearn/preprocessing/_label.py:99: DataConversionWarning: A column-vector y was passed when a 1d array was expected. Please change the shape of y to (n_samples, ), for example using ravel().\n",
      "  y = column_or_1d(y, warn=True)\n",
      "/Users/ladarudnitckaia/opt/anaconda3/envs/telemarketing-optimization/lib/python3.10/site-packages/sklearn/preprocessing/_label.py:134: DataConversionWarning: A column-vector y was passed when a 1d array was expected. Please change the shape of y to (n_samples, ), for example using ravel().\n",
      "  y = column_or_1d(y, dtype=self.classes_.dtype, warn=True)\n"
     ]
    }
   ],
   "source": [
    "required_features = [\n",
    "    \"age\",\n",
    "    \"job\",\n",
    "    \"marital\",\n",
    "    \"education\",\n",
    "    \"default\",\n",
    "    \"housing\",\n",
    "    \"loan\",\n",
    "    \"contact\",\n",
    "    \"month\",\n",
    "    \"day_of_week\",\n",
    "    \"campaign\",\n",
    "    \"pdays\",\n",
    "    \"previous\",\n",
    "    \"poutcome\",\n",
    "    \"emp.var.rate\",\n",
    "    \"cons.price.idx\",\n",
    "    \"cons.conf.idx\",\n",
    "    \"euribor3m\",\n",
    "    \"nr.employed\",\n",
    "]\n",
    "\n",
    "tr_x, tr_y, val_x, val_y, test_x, test_y = data_preprocessing_training(df, 'y', required_features)\n",
    "\n",
    "print(\"Training Features Shape:\", tr_x.shape)\n",
    "print(\"Training Labels Shape:\", tr_y.shape)\n",
    "print(\"Testing Features Shape:\", test_x.shape)\n",
    "print(\"Testing Labels Shape:\", test_y.shape)\n",
    "print(\"Validation Features Shape:\", val_x.shape)\n",
    "print(\"Validation Labels Shape:\", val_y.shape)"
   ]
  },
  {
   "cell_type": "markdown",
   "metadata": {},
   "source": [
    "### Model training"
   ]
  },
  {
   "cell_type": "markdown",
   "metadata": {},
   "source": [
    "First, we define the classifier and a set of possible hyperparameters for tuning. Then, we train a Random Forest model several times with different hyperparameters using the Random Search (to speed up the process). The evaluation is based on the 5 fold cross validation and Recall metric."
   ]
  },
  {
   "cell_type": "code",
   "execution_count": 18,
   "metadata": {},
   "outputs": [],
   "source": [
    "rf_classifier = RandomForestClassifier(\n",
    "    class_weight=\"balanced\", bootstrap=True, random_state=42\n",
    ")\n",
    "# The “balanced” mode uses the values of y to automatically adjust weights inversely proportional to class frequencies"
   ]
  },
  {
   "cell_type": "code",
   "execution_count": 19,
   "metadata": {},
   "outputs": [],
   "source": [
    "hyperparams = {\n",
    "    \"n_estimators\": [100, 500],\n",
    "    \"max_depth\": [10, 20],\n",
    "    \"min_samples_leaf\": [2, 3],\n",
    "}\n",
    "recall_scorer = make_scorer(recall_score, average=\"binary\")"
   ]
  },
  {
   "cell_type": "code",
   "execution_count": 20,
   "metadata": {},
   "outputs": [
    {
     "name": "stderr",
     "output_type": "stream",
     "text": [
      "/Users/ladarudnitckaia/opt/anaconda3/envs/telemarketing-optimization/lib/python3.10/site-packages/sklearn/model_selection/_search.py:305: UserWarning: The total space of parameters 8 is smaller than n_iter=10. Running 8 iterations. For exhaustive searches, use GridSearchCV.\n",
      "  warnings.warn(\n"
     ]
    },
    {
     "name": "stdout",
     "output_type": "stream",
     "text": [
      "Fitting 5 folds for each of 8 candidates, totalling 40 fits\n",
      "[CV 1/5] END max_depth=10, min_samples_leaf=2, n_estimators=100;, score=0.642 total time=   3.3s\n",
      "[CV 2/5] END max_depth=10, min_samples_leaf=2, n_estimators=100;, score=0.668 total time=   2.1s\n",
      "[CV 3/5] END max_depth=10, min_samples_leaf=2, n_estimators=100;, score=0.655 total time=   2.6s\n",
      "[CV 4/5] END max_depth=10, min_samples_leaf=2, n_estimators=100;, score=0.634 total time=   3.4s\n",
      "[CV 5/5] END max_depth=10, min_samples_leaf=2, n_estimators=100;, score=0.686 total time=   3.4s\n",
      "[CV 1/5] END max_depth=10, min_samples_leaf=2, n_estimators=500;, score=0.644 total time=  17.4s\n",
      "[CV 2/5] END max_depth=10, min_samples_leaf=2, n_estimators=500;, score=0.652 total time=  15.0s\n",
      "[CV 3/5] END max_depth=10, min_samples_leaf=2, n_estimators=500;, score=0.652 total time=  14.8s\n",
      "[CV 4/5] END max_depth=10, min_samples_leaf=2, n_estimators=500;, score=0.639 total time=  15.6s\n",
      "[CV 5/5] END max_depth=10, min_samples_leaf=2, n_estimators=500;, score=0.673 total time=  17.1s\n",
      "[CV 1/5] END max_depth=10, min_samples_leaf=3, n_estimators=100;, score=0.669 total time=   3.3s\n",
      "[CV 2/5] END max_depth=10, min_samples_leaf=3, n_estimators=100;, score=0.661 total time=   3.6s\n",
      "[CV 3/5] END max_depth=10, min_samples_leaf=3, n_estimators=100;, score=0.660 total time=   3.5s\n",
      "[CV 4/5] END max_depth=10, min_samples_leaf=3, n_estimators=100;, score=0.646 total time=   3.3s\n",
      "[CV 5/5] END max_depth=10, min_samples_leaf=3, n_estimators=100;, score=0.686 total time=   3.1s\n",
      "[CV 1/5] END max_depth=10, min_samples_leaf=3, n_estimators=500;, score=0.642 total time=  14.5s\n",
      "[CV 2/5] END max_depth=10, min_samples_leaf=3, n_estimators=500;, score=0.656 total time=  16.0s\n",
      "[CV 3/5] END max_depth=10, min_samples_leaf=3, n_estimators=500;, score=0.659 total time=  14.4s\n",
      "[CV 4/5] END max_depth=10, min_samples_leaf=3, n_estimators=500;, score=0.640 total time=  16.1s\n",
      "[CV 5/5] END max_depth=10, min_samples_leaf=3, n_estimators=500;, score=0.666 total time=  15.7s\n",
      "[CV 1/5] END max_depth=20, min_samples_leaf=2, n_estimators=100;, score=0.609 total time=   8.7s\n",
      "[CV 2/5] END max_depth=20, min_samples_leaf=2, n_estimators=100;, score=0.613 total time=   8.0s\n",
      "[CV 3/5] END max_depth=20, min_samples_leaf=2, n_estimators=100;, score=0.617 total time=   8.1s\n",
      "[CV 4/5] END max_depth=20, min_samples_leaf=2, n_estimators=100;, score=0.583 total time=   8.1s\n",
      "[CV 5/5] END max_depth=20, min_samples_leaf=2, n_estimators=100;, score=0.620 total time=   7.9s\n",
      "[CV 1/5] END max_depth=20, min_samples_leaf=2, n_estimators=500;, score=0.602 total time=  39.9s\n",
      "[CV 2/5] END max_depth=20, min_samples_leaf=2, n_estimators=500;, score=0.613 total time=  40.8s\n",
      "[CV 3/5] END max_depth=20, min_samples_leaf=2, n_estimators=500;, score=0.615 total time=  40.3s\n",
      "[CV 4/5] END max_depth=20, min_samples_leaf=2, n_estimators=500;, score=0.591 total time=  43.7s\n",
      "[CV 5/5] END max_depth=20, min_samples_leaf=2, n_estimators=500;, score=0.624 total time=  52.5s\n",
      "[CV 1/5] END max_depth=20, min_samples_leaf=3, n_estimators=100;, score=0.608 total time=   7.2s\n",
      "[CV 2/5] END max_depth=20, min_samples_leaf=3, n_estimators=100;, score=0.616 total time=   6.1s\n",
      "[CV 3/5] END max_depth=20, min_samples_leaf=3, n_estimators=100;, score=0.626 total time=   6.2s\n",
      "[CV 4/5] END max_depth=20, min_samples_leaf=3, n_estimators=100;, score=0.595 total time=   7.5s\n",
      "[CV 5/5] END max_depth=20, min_samples_leaf=3, n_estimators=100;, score=0.625 total time=   7.3s\n",
      "[CV 1/5] END max_depth=20, min_samples_leaf=3, n_estimators=500;, score=0.606 total time=  34.0s\n",
      "[CV 2/5] END max_depth=20, min_samples_leaf=3, n_estimators=500;, score=0.617 total time=  35.9s\n",
      "[CV 3/5] END max_depth=20, min_samples_leaf=3, n_estimators=500;, score=0.625 total time=  34.9s\n",
      "[CV 4/5] END max_depth=20, min_samples_leaf=3, n_estimators=500;, score=0.601 total time=  37.6s\n",
      "[CV 5/5] END max_depth=20, min_samples_leaf=3, n_estimators=500;, score=0.625 total time=  34.0s\n"
     ]
    },
    {
     "data": {
      "text/html": [
       "<style>#sk-container-id-1 {color: black;background-color: white;}#sk-container-id-1 pre{padding: 0;}#sk-container-id-1 div.sk-toggleable {background-color: white;}#sk-container-id-1 label.sk-toggleable__label {cursor: pointer;display: block;width: 100%;margin-bottom: 0;padding: 0.3em;box-sizing: border-box;text-align: center;}#sk-container-id-1 label.sk-toggleable__label-arrow:before {content: \"▸\";float: left;margin-right: 0.25em;color: #696969;}#sk-container-id-1 label.sk-toggleable__label-arrow:hover:before {color: black;}#sk-container-id-1 div.sk-estimator:hover label.sk-toggleable__label-arrow:before {color: black;}#sk-container-id-1 div.sk-toggleable__content {max-height: 0;max-width: 0;overflow: hidden;text-align: left;background-color: #f0f8ff;}#sk-container-id-1 div.sk-toggleable__content pre {margin: 0.2em;color: black;border-radius: 0.25em;background-color: #f0f8ff;}#sk-container-id-1 input.sk-toggleable__control:checked~div.sk-toggleable__content {max-height: 200px;max-width: 100%;overflow: auto;}#sk-container-id-1 input.sk-toggleable__control:checked~label.sk-toggleable__label-arrow:before {content: \"▾\";}#sk-container-id-1 div.sk-estimator input.sk-toggleable__control:checked~label.sk-toggleable__label {background-color: #d4ebff;}#sk-container-id-1 div.sk-label input.sk-toggleable__control:checked~label.sk-toggleable__label {background-color: #d4ebff;}#sk-container-id-1 input.sk-hidden--visually {border: 0;clip: rect(1px 1px 1px 1px);clip: rect(1px, 1px, 1px, 1px);height: 1px;margin: -1px;overflow: hidden;padding: 0;position: absolute;width: 1px;}#sk-container-id-1 div.sk-estimator {font-family: monospace;background-color: #f0f8ff;border: 1px dotted black;border-radius: 0.25em;box-sizing: border-box;margin-bottom: 0.5em;}#sk-container-id-1 div.sk-estimator:hover {background-color: #d4ebff;}#sk-container-id-1 div.sk-parallel-item::after {content: \"\";width: 100%;border-bottom: 1px solid gray;flex-grow: 1;}#sk-container-id-1 div.sk-label:hover label.sk-toggleable__label {background-color: #d4ebff;}#sk-container-id-1 div.sk-serial::before {content: \"\";position: absolute;border-left: 1px solid gray;box-sizing: border-box;top: 0;bottom: 0;left: 50%;z-index: 0;}#sk-container-id-1 div.sk-serial {display: flex;flex-direction: column;align-items: center;background-color: white;padding-right: 0.2em;padding-left: 0.2em;position: relative;}#sk-container-id-1 div.sk-item {position: relative;z-index: 1;}#sk-container-id-1 div.sk-parallel {display: flex;align-items: stretch;justify-content: center;background-color: white;position: relative;}#sk-container-id-1 div.sk-item::before, #sk-container-id-1 div.sk-parallel-item::before {content: \"\";position: absolute;border-left: 1px solid gray;box-sizing: border-box;top: 0;bottom: 0;left: 50%;z-index: -1;}#sk-container-id-1 div.sk-parallel-item {display: flex;flex-direction: column;z-index: 1;position: relative;background-color: white;}#sk-container-id-1 div.sk-parallel-item:first-child::after {align-self: flex-end;width: 50%;}#sk-container-id-1 div.sk-parallel-item:last-child::after {align-self: flex-start;width: 50%;}#sk-container-id-1 div.sk-parallel-item:only-child::after {width: 0;}#sk-container-id-1 div.sk-dashed-wrapped {border: 1px dashed gray;margin: 0 0.4em 0.5em 0.4em;box-sizing: border-box;padding-bottom: 0.4em;background-color: white;}#sk-container-id-1 div.sk-label label {font-family: monospace;font-weight: bold;display: inline-block;line-height: 1.2em;}#sk-container-id-1 div.sk-label-container {text-align: center;}#sk-container-id-1 div.sk-container {/* jupyter's `normalize.less` sets `[hidden] { display: none; }` but bootstrap.min.css set `[hidden] { display: none !important; }` so we also need the `!important` here to be able to override the default hidden behavior on the sphinx rendered scikit-learn.org. See: https://github.com/scikit-learn/scikit-learn/issues/21755 */display: inline-block !important;position: relative;}#sk-container-id-1 div.sk-text-repr-fallback {display: none;}</style><div id=\"sk-container-id-1\" class=\"sk-top-container\"><div class=\"sk-text-repr-fallback\"><pre>RandomizedSearchCV(cv=StratifiedKFold(n_splits=5, random_state=42, shuffle=True),\n",
       "                   estimator=RandomForestClassifier(class_weight=&#x27;balanced&#x27;,\n",
       "                                                    random_state=42),\n",
       "                   param_distributions={&#x27;max_depth&#x27;: [10, 20],\n",
       "                                        &#x27;min_samples_leaf&#x27;: [2, 3],\n",
       "                                        &#x27;n_estimators&#x27;: [100, 500]},\n",
       "                   scoring=make_scorer(recall_score, average=binary),\n",
       "                   verbose=4)</pre><b>In a Jupyter environment, please rerun this cell to show the HTML representation or trust the notebook. <br />On GitHub, the HTML representation is unable to render, please try loading this page with nbviewer.org.</b></div><div class=\"sk-container\" hidden><div class=\"sk-item sk-dashed-wrapped\"><div class=\"sk-label-container\"><div class=\"sk-label sk-toggleable\"><input class=\"sk-toggleable__control sk-hidden--visually\" id=\"sk-estimator-id-1\" type=\"checkbox\" ><label for=\"sk-estimator-id-1\" class=\"sk-toggleable__label sk-toggleable__label-arrow\">RandomizedSearchCV</label><div class=\"sk-toggleable__content\"><pre>RandomizedSearchCV(cv=StratifiedKFold(n_splits=5, random_state=42, shuffle=True),\n",
       "                   estimator=RandomForestClassifier(class_weight=&#x27;balanced&#x27;,\n",
       "                                                    random_state=42),\n",
       "                   param_distributions={&#x27;max_depth&#x27;: [10, 20],\n",
       "                                        &#x27;min_samples_leaf&#x27;: [2, 3],\n",
       "                                        &#x27;n_estimators&#x27;: [100, 500]},\n",
       "                   scoring=make_scorer(recall_score, average=binary),\n",
       "                   verbose=4)</pre></div></div></div><div class=\"sk-parallel\"><div class=\"sk-parallel-item\"><div class=\"sk-item\"><div class=\"sk-label-container\"><div class=\"sk-label sk-toggleable\"><input class=\"sk-toggleable__control sk-hidden--visually\" id=\"sk-estimator-id-2\" type=\"checkbox\" ><label for=\"sk-estimator-id-2\" class=\"sk-toggleable__label sk-toggleable__label-arrow\">estimator: RandomForestClassifier</label><div class=\"sk-toggleable__content\"><pre>RandomForestClassifier(class_weight=&#x27;balanced&#x27;, random_state=42)</pre></div></div></div><div class=\"sk-serial\"><div class=\"sk-item\"><div class=\"sk-estimator sk-toggleable\"><input class=\"sk-toggleable__control sk-hidden--visually\" id=\"sk-estimator-id-3\" type=\"checkbox\" ><label for=\"sk-estimator-id-3\" class=\"sk-toggleable__label sk-toggleable__label-arrow\">RandomForestClassifier</label><div class=\"sk-toggleable__content\"><pre>RandomForestClassifier(class_weight=&#x27;balanced&#x27;, random_state=42)</pre></div></div></div></div></div></div></div></div></div></div>"
      ],
      "text/plain": [
       "RandomizedSearchCV(cv=StratifiedKFold(n_splits=5, random_state=42, shuffle=True),\n",
       "                   estimator=RandomForestClassifier(class_weight='balanced',\n",
       "                                                    random_state=42),\n",
       "                   param_distributions={'max_depth': [10, 20],\n",
       "                                        'min_samples_leaf': [2, 3],\n",
       "                                        'n_estimators': [100, 500]},\n",
       "                   scoring=make_scorer(recall_score, average=binary),\n",
       "                   verbose=4)"
      ]
     },
     "execution_count": 20,
     "metadata": {},
     "output_type": "execute_result"
    }
   ],
   "source": [
    "cv = StratifiedKFold(n_splits=5, shuffle=True, random_state=42)\n",
    "random_search = RandomizedSearchCV(\n",
    "    estimator=rf_classifier,\n",
    "    param_distributions=hyperparams,\n",
    "    cv=cv,\n",
    "    scoring=recall_scorer,\n",
    "    verbose=4,\n",
    ")\n",
    "random_search.fit(tr_x, tr_y)"
   ]
  },
  {
   "cell_type": "code",
   "execution_count": 21,
   "metadata": {},
   "outputs": [
    {
     "name": "stdout",
     "output_type": "stream",
     "text": [
      "Best Hyperparameters:  {'n_estimators': 100, 'min_samples_leaf': 3, 'max_depth': 10}\n",
      "Best Recall: 0.66\n"
     ]
    }
   ],
   "source": [
    "print(\"Best Hyperparameters: \", random_search.best_params_)\n",
    "print(\"Best Recall: {:.2f}\".format(random_search.best_score_))"
   ]
  },
  {
   "cell_type": "markdown",
   "metadata": {},
   "source": [
    "Once the best hyperparameters are defined, we can train a final model with these hyperparameters."
   ]
  },
  {
   "cell_type": "code",
   "execution_count": 22,
   "metadata": {},
   "outputs": [
    {
     "data": {
      "text/html": [
       "<style>#sk-container-id-2 {color: black;background-color: white;}#sk-container-id-2 pre{padding: 0;}#sk-container-id-2 div.sk-toggleable {background-color: white;}#sk-container-id-2 label.sk-toggleable__label {cursor: pointer;display: block;width: 100%;margin-bottom: 0;padding: 0.3em;box-sizing: border-box;text-align: center;}#sk-container-id-2 label.sk-toggleable__label-arrow:before {content: \"▸\";float: left;margin-right: 0.25em;color: #696969;}#sk-container-id-2 label.sk-toggleable__label-arrow:hover:before {color: black;}#sk-container-id-2 div.sk-estimator:hover label.sk-toggleable__label-arrow:before {color: black;}#sk-container-id-2 div.sk-toggleable__content {max-height: 0;max-width: 0;overflow: hidden;text-align: left;background-color: #f0f8ff;}#sk-container-id-2 div.sk-toggleable__content pre {margin: 0.2em;color: black;border-radius: 0.25em;background-color: #f0f8ff;}#sk-container-id-2 input.sk-toggleable__control:checked~div.sk-toggleable__content {max-height: 200px;max-width: 100%;overflow: auto;}#sk-container-id-2 input.sk-toggleable__control:checked~label.sk-toggleable__label-arrow:before {content: \"▾\";}#sk-container-id-2 div.sk-estimator input.sk-toggleable__control:checked~label.sk-toggleable__label {background-color: #d4ebff;}#sk-container-id-2 div.sk-label input.sk-toggleable__control:checked~label.sk-toggleable__label {background-color: #d4ebff;}#sk-container-id-2 input.sk-hidden--visually {border: 0;clip: rect(1px 1px 1px 1px);clip: rect(1px, 1px, 1px, 1px);height: 1px;margin: -1px;overflow: hidden;padding: 0;position: absolute;width: 1px;}#sk-container-id-2 div.sk-estimator {font-family: monospace;background-color: #f0f8ff;border: 1px dotted black;border-radius: 0.25em;box-sizing: border-box;margin-bottom: 0.5em;}#sk-container-id-2 div.sk-estimator:hover {background-color: #d4ebff;}#sk-container-id-2 div.sk-parallel-item::after {content: \"\";width: 100%;border-bottom: 1px solid gray;flex-grow: 1;}#sk-container-id-2 div.sk-label:hover label.sk-toggleable__label {background-color: #d4ebff;}#sk-container-id-2 div.sk-serial::before {content: \"\";position: absolute;border-left: 1px solid gray;box-sizing: border-box;top: 0;bottom: 0;left: 50%;z-index: 0;}#sk-container-id-2 div.sk-serial {display: flex;flex-direction: column;align-items: center;background-color: white;padding-right: 0.2em;padding-left: 0.2em;position: relative;}#sk-container-id-2 div.sk-item {position: relative;z-index: 1;}#sk-container-id-2 div.sk-parallel {display: flex;align-items: stretch;justify-content: center;background-color: white;position: relative;}#sk-container-id-2 div.sk-item::before, #sk-container-id-2 div.sk-parallel-item::before {content: \"\";position: absolute;border-left: 1px solid gray;box-sizing: border-box;top: 0;bottom: 0;left: 50%;z-index: -1;}#sk-container-id-2 div.sk-parallel-item {display: flex;flex-direction: column;z-index: 1;position: relative;background-color: white;}#sk-container-id-2 div.sk-parallel-item:first-child::after {align-self: flex-end;width: 50%;}#sk-container-id-2 div.sk-parallel-item:last-child::after {align-self: flex-start;width: 50%;}#sk-container-id-2 div.sk-parallel-item:only-child::after {width: 0;}#sk-container-id-2 div.sk-dashed-wrapped {border: 1px dashed gray;margin: 0 0.4em 0.5em 0.4em;box-sizing: border-box;padding-bottom: 0.4em;background-color: white;}#sk-container-id-2 div.sk-label label {font-family: monospace;font-weight: bold;display: inline-block;line-height: 1.2em;}#sk-container-id-2 div.sk-label-container {text-align: center;}#sk-container-id-2 div.sk-container {/* jupyter's `normalize.less` sets `[hidden] { display: none; }` but bootstrap.min.css set `[hidden] { display: none !important; }` so we also need the `!important` here to be able to override the default hidden behavior on the sphinx rendered scikit-learn.org. See: https://github.com/scikit-learn/scikit-learn/issues/21755 */display: inline-block !important;position: relative;}#sk-container-id-2 div.sk-text-repr-fallback {display: none;}</style><div id=\"sk-container-id-2\" class=\"sk-top-container\"><div class=\"sk-text-repr-fallback\"><pre>RandomForestClassifier(class_weight=&#x27;balanced&#x27;, max_depth=10,\n",
       "                       min_samples_leaf=3, random_state=42)</pre><b>In a Jupyter environment, please rerun this cell to show the HTML representation or trust the notebook. <br />On GitHub, the HTML representation is unable to render, please try loading this page with nbviewer.org.</b></div><div class=\"sk-container\" hidden><div class=\"sk-item\"><div class=\"sk-estimator sk-toggleable\"><input class=\"sk-toggleable__control sk-hidden--visually\" id=\"sk-estimator-id-4\" type=\"checkbox\" checked><label for=\"sk-estimator-id-4\" class=\"sk-toggleable__label sk-toggleable__label-arrow\">RandomForestClassifier</label><div class=\"sk-toggleable__content\"><pre>RandomForestClassifier(class_weight=&#x27;balanced&#x27;, max_depth=10,\n",
       "                       min_samples_leaf=3, random_state=42)</pre></div></div></div></div></div>"
      ],
      "text/plain": [
       "RandomForestClassifier(class_weight='balanced', max_depth=10,\n",
       "                       min_samples_leaf=3, random_state=42)"
      ]
     },
     "execution_count": 22,
     "metadata": {},
     "output_type": "execute_result"
    }
   ],
   "source": [
    "best_rf_classifier = random_search.best_estimator_\n",
    "best_rf_classifier.fit(tr_x, tr_y)"
   ]
  },
  {
   "cell_type": "markdown",
   "metadata": {},
   "source": [
    "Next, we will use the validation set to find the optimal threshold for the trained Random Forest model.\n",
    "The default threshold of 0.5 is not a good solution because the effect from False Negatives and False Positives is not equal. We prioritize avoiding False Negatives already by using the Recall metric for evaluation. At the same time, we can use the information from the stakeholders to optimize the model's threshold according to the business problems requirements.\n",
    "\n",
    "We will define a function that searches for an optimal threshold given the follwoing information:\n",
    "- The prfofit from the conversion is 80$\n",
    "- A call cost is 8$\n",
    "- Total gain: [correctly predicted as worthy calls] * 80$ - [all predicted as worthy calls] * 8$\n",
    "- Opportunity costs: [falsely predicted as useless calls] * (80$ - 8$)\n",
    "- Clean gain: Total gain - Opportunity costs"
   ]
  },
  {
   "cell_type": "code",
   "execution_count": 23,
   "metadata": {},
   "outputs": [],
   "source": [
    "y_pred_proba = best_rf_classifier.predict_proba(val_x)\n",
    "y_pred = (y_pred_proba[:, 1] > 0.5).astype(int)"
   ]
  },
  {
   "cell_type": "code",
   "execution_count": 24,
   "metadata": {},
   "outputs": [],
   "source": [
    "def custom_metric(y_true, y_pred_proba, threshold):\n",
    "    y_pred = (y_pred_proba[:, 1] > threshold).astype(int)\n",
    "    TN, FP, FN, TP = confusion_matrix(y_true, y_pred).ravel()\n",
    "    gain = TP * 80 - (TP + FP) * 8\n",
    "    opp_cost = FN * 72\n",
    "    clean_gain = gain - opp_cost\n",
    "    return clean_gain"
   ]
  },
  {
   "cell_type": "code",
   "execution_count": 25,
   "metadata": {},
   "outputs": [],
   "source": [
    "thresholds = np.linspace(0, 1, 100)\n",
    "best_threshold = None\n",
    "best_gain = float(\"-inf\")\n",
    "\n",
    "for threshold in thresholds:\n",
    "    gain = custom_metric(val_y, y_pred_proba, threshold)\n",
    "    if gain > best_gain:\n",
    "        best_gain = gain\n",
    "        best_threshold = threshold"
   ]
  },
  {
   "cell_type": "code",
   "execution_count": 26,
   "metadata": {},
   "outputs": [
    {
     "name": "stdout",
     "output_type": "stream",
     "text": [
      "Best Threshold: 0.33333333333333337\n",
      "Best Gain: 7744\n"
     ]
    }
   ],
   "source": [
    "print(\"Best Threshold:\", best_threshold)\n",
    "print(\"Best Gain:\", best_gain)"
   ]
  },
  {
   "cell_type": "markdown",
   "metadata": {},
   "source": [
    "### Model saving"
   ]
  },
  {
   "cell_type": "code",
   "execution_count": 31,
   "metadata": {},
   "outputs": [
    {
     "data": {
      "text/plain": [
       "['/Users/ladarudnitckaia/Documents/GitHub/telemarketing-optimization/notebooks/../models/best_rf_classifier.sav']"
      ]
     },
     "execution_count": 31,
     "metadata": {},
     "output_type": "execute_result"
    }
   ],
   "source": [
    "joblib.dump(best_rf_classifier, os.path.join(os.getcwd(), \"../models/best_rf_classifier.sav\"))"
   ]
  },
  {
   "cell_type": "code",
   "execution_count": 34,
   "metadata": {},
   "outputs": [],
   "source": [
    "with open(os.path.join(os.getcwd(), \"../models/best_threshold.json\"), \"w\") as outfile:\n",
    "    outfile.write(json.dumps({\"best_threshold\": best_threshold}))"
   ]
  },
  {
   "cell_type": "markdown",
   "metadata": {},
   "source": [
    "### Model evaluation"
   ]
  },
  {
   "cell_type": "markdown",
   "metadata": {},
   "source": [
    "We've got a final model and an optimized threshold. Let's use the test set to evaluate the model using standard classification pefformance metrics and to estimate whether using this model is economically reasonable.\n",
    "\n",
    "An efficiency of a model can be compared to a baseline: making calls to all the clients.\n",
    "- Profit without using a model = [converted clients] * 80$ - [all clients] * 8$\n",
    "- Total gain: [correctly predicted as worthy calls, i.e., TP] * 80$ - [all predicted as worthy calls, i.e., TP + FP] * 8$\n",
    "- Opportunity costs: [falsely predicted as useless calls, i.e., FN] * (80$ - 8$)\n",
    "- Clean gain: Total gain - Opportunity costs"
   ]
  },
  {
   "cell_type": "code",
   "execution_count": 35,
   "metadata": {},
   "outputs": [],
   "source": [
    "test_y_pred_proba = best_rf_classifier.predict_proba(test_x)\n",
    "test_y_test_pred = (test_y_pred_proba[:, 1] > best_threshold).astype(int)"
   ]
  },
  {
   "cell_type": "code",
   "execution_count": 36,
   "metadata": {},
   "outputs": [
    {
     "name": "stdout",
     "output_type": "stream",
     "text": [
      "Performance of tunes Random Forest, test:\n",
      "F1: 0.28\n",
      "Precision: 0.16\n",
      "Recall: 0.88\n",
      "AUC: 0.66\n",
      "Accuracy: 0.49\n",
      "Confusion matrix:\n",
      " [[1592   57]\n",
      " [2063  407]]\n"
     ]
    }
   ],
   "source": [
    "cf_matrix = metrics.confusion_matrix(test_y, test_y_test_pred)\n",
    "\n",
    "print(\"Performance of tunes Random Forest, test:\")\n",
    "print(\"F1:\", round(metrics.f1_score(test_y, test_y_test_pred), 2))\n",
    "print(\"Precision:\", round(metrics.precision_score(test_y, test_y_test_pred), 2))\n",
    "print(\"Recall:\", round(metrics.recall_score(test_y, test_y_test_pred), 2))\n",
    "print(\"AUC:\", round(metrics.roc_auc_score(test_y, test_y_test_pred), 2))\n",
    "print(\"Accuracy:\", round(metrics.accuracy_score(test_y, test_y_test_pred), 2))\n",
    "print(\n",
    "    \"Confusion matrix:\\n\",\n",
    "    metrics.confusion_matrix(test_y, test_y_test_pred).transpose(),\n",
    ")"
   ]
  },
  {
   "cell_type": "code",
   "execution_count": 37,
   "metadata": {},
   "outputs": [
    {
     "data": {
      "image/png": "[encoded data removed]",
      "text/plain": [
       "<Figure size 800x600 with 2 Axes>"
      ]
     },
     "metadata": {},
     "output_type": "display_data"
    }
   ],
   "source": [
    "TN, FP, FN, TP = confusion_matrix(test_y, test_y_test_pred).ravel()\n",
    "fl = [TN, FN, FP, TP]\n",
    "fig, ax = plt.subplots(figsize=(8, 6))\n",
    "\n",
    "sns.set(font_scale=2)\n",
    "group_names = [\"TN\", \"FN\", \"FP\", \"TP\"]\n",
    "group_counts = [\"{0:0.0f}\".format(value) for value in fl]\n",
    "group_percentages = [\"{0:.2%}\".format(value) for value in fl / np.sum(cf_matrix)]\n",
    "labels = [\n",
    "    f\"{v1}\\n{v2}\\n{v3}\"\n",
    "    for v1, v2, v3 in zip(group_names, group_counts, group_percentages)\n",
    "]\n",
    "labels = np.asarray(labels).reshape(2, 2)\n",
    "\n",
    "sns.heatmap(cf_matrix, annot=labels, fmt=\"\", cmap=\"BuPu\")\n",
    "plt.ylabel(\"Predicted\", fontsize=20)\n",
    "plt.xlabel(\"Actual\", fontsize=20)\n",
    "ax.set_ylim([0, 2])\n",
    "ax.invert_yaxis()"
   ]
  },
  {
   "cell_type": "markdown",
   "metadata": {},
   "source": [
    "Although the model manages to avoid predicting worthy calls as useless (low FN) and it reduces the number of useless calls significantly (TN), it at the same time still does recommend to make a lot of useless calls (FP). While Recall is pretty high, other standard metrics, e.g., F1 score and Precision are quite low. Let's try to understand whether the usage of the model is still reasonable and saves company money."
   ]
  },
  {
   "cell_type": "code",
   "execution_count": 41,
   "metadata": {},
   "outputs": [
    {
     "name": "stdout",
     "output_type": "stream",
     "text": [
      "Profit without using a model: 4168$\n"
     ]
    }
   ],
   "source": [
    "# Profit without using a model = [converted clients] * 80$ - [all clients] * 8$\n",
    "unique, counts = np.unique(test_y, return_counts=True)\n",
    "clients_converted = dict(zip(unique, counts))[1]\n",
    "profit_without_a_model = clients_converted * 80 - len(test_y) * 8\n",
    "print(f'Profit without using a model: {profit_without_a_model}$')"
   ]
  },
  {
   "cell_type": "code",
   "execution_count": 40,
   "metadata": {},
   "outputs": [
    {
     "name": "stdout",
     "output_type": "stream",
     "text": [
      "Total gain with a model: 12800$\n",
      "Opportunity costs from model usage: 4104$\n",
      "Clean gain with a model: 8696$\n"
     ]
    }
   ],
   "source": [
    "# Total gain: [correctly predicted as worthy calls, i.e., TP] * 80$ - [all predicted as worthy calls, i.e., TP + FP] * 8$\n",
    "# Opportunity costs: [falsely predicted as useless calls, i.e., FN] * (80$ - 8$)\n",
    "# Clean gain: Total gain - Opportunity costs\n",
    "profit_with_a_model = TP * 80  - (TP + FP) * 8\n",
    "opportunity_costs = FN * (80 - 8)\n",
    "print(f\"Total gain with a model: {profit_with_a_model}$\")\n",
    "print(f\"Opportunity costs from model usage: {opportunity_costs}$\")\n",
    "print(f\"Clean gain with a model: {profit_with_a_model - opportunity_costs}$\")"
   ]
  },
  {
   "cell_type": "markdown",
   "metadata": {},
   "source": [
    "Even though the classic performance metrics aren't very high, the model still can help the marketing department gain more profit by reducing the number of useless calls and saving money there. While still suggesting to do some calls that won't lead to conversion, the model makes sure as little business is lost as possible by avoiding false Neagtives through maximizing the Recall and optimizing the threshold. \n",
    "\n",
    "For the scope of this project, we save the model and prepare to deploy it into an ML pipeline."
   ]
  },
  {
   "cell_type": "markdown",
   "metadata": {},
   "source": [
    "TODO: FEATURE IMPORTANCE"
   ]
  }
 ],
 "metadata": {
  "kernelspec": {
   "display_name": "telemarketing-optimization",
   "language": "python",
   "name": "python3"
  },
  "language_info": {
   "codemirror_mode": {
    "name": "ipython",
    "version": 3
   },
   "file_extension": ".py",
   "mimetype": "text/x-python",
   "name": "python",
   "nbconvert_exporter": "python",
   "pygments_lexer": "ipython3",
   "version": "3.10.0"
  },
  "orig_nbformat": 4
 },
 "nbformat": 4,
 "nbformat_minor": 2
}
