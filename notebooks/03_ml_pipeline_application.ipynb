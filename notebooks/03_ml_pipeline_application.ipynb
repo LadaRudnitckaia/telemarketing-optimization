{
 "cells": [
  {
   "cell_type": "markdown",
   "metadata": {},
   "source": [
    "Here, insert some new data and apply the model.\n",
    "\n",
    "Describe whether this would be batch or online processing. Probably batch. But can still be called as a service.\n",
    "\n",
    "It can be calculated once in the beginning of the week for the whole cohort of the clients, saved it to a database or a Google Sheet from where it can be accessed by the call center employees. (filter predicted as worthy to call to and save them as a Google Sheet)"
   ]
  },
  {
   "cell_type": "markdown",
   "metadata": {},
   "source": [
    "model monitoring should be set up - maybe a week after the predictions were made considering that all the calls were made during that week and ground truth collected. a model can be evaluated and if needed, retrained with new observations."
   ]
  },
  {
   "cell_type": "markdown",
   "metadata": {},
   "source": [
    "for redeployment: model training should also be put into script and then it can be deployed to run automatically."
   ]
  },
  {
   "cell_type": "markdown",
   "metadata": {},
   "source": [
    "TODO: a couple of tests"
   ]
  }
 ],
 "metadata": {
  "language_info": {
   "name": "python"
  },
  "orig_nbformat": 4
 },
 "nbformat": 4,
 "nbformat_minor": 2
}
