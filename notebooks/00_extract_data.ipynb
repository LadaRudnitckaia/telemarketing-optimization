{
 "cells": [
  {
   "cell_type": "markdown",
   "metadata": {},
   "source": [
    "# Data Extraction"
   ]
  },
  {
   "cell_type": "markdown",
   "metadata": {},
   "source": [
    "In this notebook, the data are extracted from an archive to a data_extracted folder."
   ]
  },
  {
   "cell_type": "code",
   "execution_count": null,
   "metadata": {},
   "outputs": [],
   "source": [
    "import os\n",
    "from zipfile import ZipFile"
   ]
  },
  {
   "cell_type": "code",
   "execution_count": null,
   "metadata": {},
   "outputs": [],
   "source": [
    "data_path = os.path.join(os.getcwd(), '../data')"
   ]
  },
  {
   "cell_type": "code",
   "execution_count": null,
   "metadata": {},
   "outputs": [],
   "source": [
    "with ZipFile(os.path.join(data_path, 'bank+marketing.zip'), 'r') as zip_file: \n",
    "    zip_file.extractall(\n",
    "        path=os.path.join(data_path, 'data_extracted'))"
   ]
  },
  {
   "cell_type": "code",
   "execution_count": null,
   "metadata": {},
   "outputs": [],
   "source": [
    "with ZipFile(os.path.join(data_path, 'data_extracted', 'bank.zip'), 'r') as zip_file: \n",
    "    zip_file.extractall(\n",
    "        path=os.path.join(data_path, 'data_extracted'))"
   ]
  },
  {
   "cell_type": "code",
   "execution_count": null,
   "metadata": {},
   "outputs": [],
   "source": [
    "with ZipFile(os.path.join(data_path, 'data_extracted', 'bank-additional.zip'), 'r') as zip_file: \n",
    "    zip_file.extractall(\n",
    "        path=os.path.join(data_path, 'data_extracted'))"
   ]
  }
 ],
 "metadata": {
  "language_info": {
   "name": "python"
  },
  "orig_nbformat": 4
 },
 "nbformat": 4,
 "nbformat_minor": 2
}
